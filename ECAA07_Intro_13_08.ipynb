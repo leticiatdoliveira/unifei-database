{
  "nbformat": 4,
  "nbformat_minor": 0,
  "metadata": {
    "colab": {
      "provenance": [],
      "authorship_tag": "ABX9TyPKcy7R8Dfnk9AN3+zvR+zr",
      "include_colab_link": true
    },
    "kernelspec": {
      "name": "python3",
      "display_name": "Python 3"
    },
    "language_info": {
      "name": "python"
    }
  },
  "cells": [
    {
      "cell_type": "markdown",
      "metadata": {
        "id": "view-in-github",
        "colab_type": "text"
      },
      "source": [
        "<a href=\"https://colab.research.google.com/github/leticiatdoliveira/unifei-database/blob/main/ECAA07_Intro_13_08.ipynb\" target=\"_parent\"><img src=\"https://colab.research.google.com/assets/colab-badge.svg\" alt=\"Open In Colab\"/></a>"
      ]
    },
    {
      "cell_type": "markdown",
      "source": [
        "# Aplicação básica de banco de dados com SQLite\n"
      ],
      "metadata": {
        "id": "8dl9XzYsLGUz"
      }
    },
    {
      "cell_type": "markdown",
      "source": [
        "Primeiro banco de dados:\n",
        "- Criar o arquivo de banco de dados\n",
        "- Criar a tabela de dados\n",
        "- Criar os campos\n",
        "- Criar os registros"
      ],
      "metadata": {
        "id": "XXLugisILLMp"
      }
    }
  ]
}